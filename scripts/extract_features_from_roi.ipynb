{
 "cells": [
  {
   "cell_type": "code",
   "execution_count": 1,
   "metadata": {},
   "outputs": [
    {
     "name": "stdout",
     "output_type": "stream",
     "text": [
      "True\n"
     ]
    }
   ],
   "source": [
    "from fastai import *\n",
    "from fastai.vision.all import *\n",
    "from IPython.display import clear_output, DisplayHandle\n",
    "\n",
    "print(torch.cuda.is_available())\n",
    "\n",
    "def update_patch(self, obj):\n",
    "    clear_output(wait=True)\n",
    "    self.display(obj)\n",
    "DisplayHandle.update = update_patch"
   ]
  },
  {
   "cell_type": "code",
   "execution_count": 3,
   "metadata": {},
   "outputs": [],
   "source": [
    "def n_codes(fnames, is_partial=True):\n",
    "  \"Gather the codes from a list of `fnames`, full file paths\"\n",
    "  vals = set()\n",
    "  if is_partial:\n",
    "    random.shuffle(fnames)\n",
    "    fnames = fnames[:10]\n",
    "  for fname in fnames:\n",
    "    msk = np.array(PILMask.create(fname))\n",
    "    for val in np.unique(msk):\n",
    "      if val not in vals:\n",
    "        vals.add(val)\n",
    "  vals = list(vals)\n",
    "  p2c = dict()\n",
    "  for i, val in enumerate(vals):\n",
    "    p2c[i] = vals[i]\n",
    "  return p2c\n",
    "\n",
    "\n",
    "def get_mask_file(image_file, p2c, base_name='testing_groundtruth', mask_paths=''):\n",
    "    nums = re.findall(string=image_file.name, pattern=r\"\\d+_\\d+_\\d+\")[0]  # remove from list\n",
    "    str_name = f'{base_name}_'+nums + image_file.suffix\n",
    "    mask_path = (mask_paths/str_name)\n",
    "    msk = np.array(PILMask.create(mask_path))\n",
    "    mx = np.max(msk)\n",
    "    for i, val in enumerate(p2c):\n",
    "        # print(i, val)\n",
    "        msk[msk == p2c[i]] = val\n",
    "    return PILMask.create(msk)\n",
    "\n",
    "\n",
    "def get_y(o):\n",
    "    return get_mask_file(o, p2c)\n",
    "\n",
    "\n",
    "# p2c = n_codes(test_mask_files)\n"
   ]
  },
  {
   "cell_type": "code",
   "execution_count": 4,
   "metadata": {},
   "outputs": [],
   "source": [
    "# fine tune model on glomeruli data\n",
    "model_path = '/home/ncamarda/coding/endotheliosisQuantifier/segmentation_model_dir/dynamic_unet_seg_model-e50_b16_v2.pkl'\n",
    "# note we load v2 because this is also trained on an additional set of data\n",
    "\n",
    "segmenter = load_learner(model_path)\n"
   ]
  },
  {
   "cell_type": "code",
   "execution_count": null,
   "metadata": {},
   "outputs": [],
   "source": []
  }
 ],
 "metadata": {
  "kernelspec": {
   "display_name": "fastai",
   "language": "python",
   "name": "python3"
  },
  "language_info": {
   "codemirror_mode": {
    "name": "ipython",
    "version": 3
   },
   "file_extension": ".py",
   "mimetype": "text/x-python",
   "name": "python",
   "nbconvert_exporter": "python",
   "pygments_lexer": "ipython3",
   "version": "3.9.16"
  },
  "orig_nbformat": 4
 },
 "nbformat": 4,
 "nbformat_minor": 2
}
