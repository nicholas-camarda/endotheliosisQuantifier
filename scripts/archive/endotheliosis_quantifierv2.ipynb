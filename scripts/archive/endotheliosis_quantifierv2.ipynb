{
 "cells": [
  {
   "cell_type": "code",
   "execution_count": null,
   "metadata": {},
   "outputs": [],
   "source": [
    "import os\n",
    "import cv2\n",
    "import numpy as np\n",
    "import torch\n",
    "from torch.autograd import Variable\n",
    "from torchvision.transforms import ToTensor\n",
    "from unet import UNet\n",
    "\n",
    "# Set up input directory, output directory, and slide file\n",
    "input_dir = 'data/Lauren_PreEclampsia_Raw_Images'\n",
    "output_dir = 'output'\n",
    "slide_file = 'T20/Image0.tif'\n",
    "\n",
    "# Read the kidney H&E slide\n",
    "slide_path = os.path.join(input_dir, slide_file)\n",
    "input_image = cv2.imread(slide_path, cv2.IMREAD_COLOR)\n",
    "\n",
    "# Resize the input image to match the model's input size\n",
    "input_image_resized = cv2.resize(input_image, (512, 512))\n",
    "\n",
    "# Normalize the input image\n",
    "input_image_normalized = input_image_resized / 255.0\n",
    "\n",
    "# Convert the input image to a PyTorch tensor\n",
    "input_tensor = ToTensor()(input_image_normalized).unsqueeze(0)\n",
    "\n",
    "# Load the pretrained model\n",
    "model = UNet()\n",
    "# 'Omni-Seg/Omni_seg_pipeline_gpu/snapshots_2D/fold1_with_white_Omni-Seg_normalwhole_1201/MOTS_DynConv_fold1_with_white_Omni-Seg_normalwhole_1201_e100.pth.pth'\n",
    "# 'Omni-Seg/Omni_seg_pipeline_gpu/snapshots_2D/fold1_with_white_Omni-Seg_normalwhole_1201/MOTS_DynConv_fold1_with_white_UNet2D_ns_normalwhole_1106_e89.pth'\n",
    "model_weights_path = 'Omni-Seg/Omni_seg_pipeline_gpu/snapshots_2D/fold1_with_white_Omni-Seg_normalwhole_1201/MOTS_DynConv_fold1_with_white_scale_psuedo_allMatching_withsemi_0.1_0.1_normalwhole_0217_e81.pth'\n",
    "model.load_state_dict(torch.load(model_weights_path))\n",
    "model.eval()\n",
    "\n",
    "# Perform glomeruli segmentation\n",
    "with torch.no_grad():\n",
    "    input_variable = Variable(input_tensor)\n",
    "    output_variable = model(input_variable)\n",
    "    output_mask = torch.argmax(output_variable, dim=1).squeeze().numpy()\n",
    "\n",
    "# Save the output segmentation mask to the output directory\n",
    "output_path = os.path.join(output_dir, f'{os.path.splitext(slide_file)[0]}_segmentation_mask.npy')\n",
    "np.save(output_path, output_mask)\n"
   ]
  }
 ],
 "metadata": {
  "kernelspec": {
   "display_name": "histoTK",
   "language": "python",
   "name": "python3"
  },
  "language_info": {
   "codemirror_mode": {
    "name": "ipython",
    "version": 3
   },
   "file_extension": ".py",
   "mimetype": "text/x-python",
   "name": "python",
   "nbconvert_exporter": "python",
   "pygments_lexer": "ipython3",
   "version": "3.9.16"
  },
  "orig_nbformat": 4
 },
 "nbformat": 4,
 "nbformat_minor": 2
}
